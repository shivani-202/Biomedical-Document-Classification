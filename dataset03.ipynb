{
  "nbformat": 4,
  "nbformat_minor": 0,
  "metadata": {
    "colab": {
      "provenance": [],
      "include_colab_link": true
    },
    "kernelspec": {
      "name": "python3",
      "display_name": "Python 3"
    },
    "language_info": {
      "name": "python"
    }
  },
  "cells": [
    {
      "cell_type": "markdown",
      "metadata": {
        "id": "view-in-github",
        "colab_type": "text"
      },
      "source": [
        "<a href=\"https://colab.research.google.com/github/shivani-202/Biomedical-Document-Classification/blob/main/dataset03.ipynb\" target=\"_parent\"><img src=\"https://colab.research.google.com/assets/colab-badge.svg\" alt=\"Open In Colab\"/></a>"
      ]
    },
    {
      "cell_type": "code",
      "source": [
        "import numpy as np\n",
        "import pandas as pd\n",
        "\n",
        "df = pd.read_csv('/content/datasettext.csv')\n",
        "df.head()"
      ],
      "metadata": {
        "colab": {
          "base_uri": "https://localhost:8080/",
          "height": 206
        },
        "id": "fVWxVTP8kTpU",
        "outputId": "d743965b-6a8c-4c17-81eb-4d2bbcc63081"
      },
      "execution_count": 1,
      "outputs": [
        {
          "output_type": "execute_result",
          "data": {
            "text/plain": [
              "                                       abstract_text  line_number  \\\n",
              "0  This pilot study was registered at Controlled ...           12   \n",
              "1  Cumulative evidence from epidemiological , pre...            0   \n",
              "2  Chlorhexidine ( CHX ) mouth rinse/spray can st...            0   \n",
              "3  Ovarian failure necessitates substitution with...            2   \n",
              "4  Animal studies indicate that nicotinamide phos...            0   \n",
              "\n",
              "   total_lines current_line      target  word_count  \n",
              "0           13        12_13  BACKGROUND          18  \n",
              "1           16         0_16  BACKGROUND          19  \n",
              "2           10         0_10  BACKGROUND          25  \n",
              "3           16         2_16  BACKGROUND          22  \n",
              "4           12         0_12  BACKGROUND          23  "
            ],
            "text/html": [
              "\n",
              "  <div id=\"df-c4b357ce-b8f7-4b83-8fa4-75d3ce5a0117\" class=\"colab-df-container\">\n",
              "    <div>\n",
              "<style scoped>\n",
              "    .dataframe tbody tr th:only-of-type {\n",
              "        vertical-align: middle;\n",
              "    }\n",
              "\n",
              "    .dataframe tbody tr th {\n",
              "        vertical-align: top;\n",
              "    }\n",
              "\n",
              "    .dataframe thead th {\n",
              "        text-align: right;\n",
              "    }\n",
              "</style>\n",
              "<table border=\"1\" class=\"dataframe\">\n",
              "  <thead>\n",
              "    <tr style=\"text-align: right;\">\n",
              "      <th></th>\n",
              "      <th>abstract_text</th>\n",
              "      <th>line_number</th>\n",
              "      <th>total_lines</th>\n",
              "      <th>current_line</th>\n",
              "      <th>target</th>\n",
              "      <th>word_count</th>\n",
              "    </tr>\n",
              "  </thead>\n",
              "  <tbody>\n",
              "    <tr>\n",
              "      <th>0</th>\n",
              "      <td>This pilot study was registered at Controlled ...</td>\n",
              "      <td>12</td>\n",
              "      <td>13</td>\n",
              "      <td>12_13</td>\n",
              "      <td>BACKGROUND</td>\n",
              "      <td>18</td>\n",
              "    </tr>\n",
              "    <tr>\n",
              "      <th>1</th>\n",
              "      <td>Cumulative evidence from epidemiological , pre...</td>\n",
              "      <td>0</td>\n",
              "      <td>16</td>\n",
              "      <td>0_16</td>\n",
              "      <td>BACKGROUND</td>\n",
              "      <td>19</td>\n",
              "    </tr>\n",
              "    <tr>\n",
              "      <th>2</th>\n",
              "      <td>Chlorhexidine ( CHX ) mouth rinse/spray can st...</td>\n",
              "      <td>0</td>\n",
              "      <td>10</td>\n",
              "      <td>0_10</td>\n",
              "      <td>BACKGROUND</td>\n",
              "      <td>25</td>\n",
              "    </tr>\n",
              "    <tr>\n",
              "      <th>3</th>\n",
              "      <td>Ovarian failure necessitates substitution with...</td>\n",
              "      <td>2</td>\n",
              "      <td>16</td>\n",
              "      <td>2_16</td>\n",
              "      <td>BACKGROUND</td>\n",
              "      <td>22</td>\n",
              "    </tr>\n",
              "    <tr>\n",
              "      <th>4</th>\n",
              "      <td>Animal studies indicate that nicotinamide phos...</td>\n",
              "      <td>0</td>\n",
              "      <td>12</td>\n",
              "      <td>0_12</td>\n",
              "      <td>BACKGROUND</td>\n",
              "      <td>23</td>\n",
              "    </tr>\n",
              "  </tbody>\n",
              "</table>\n",
              "</div>\n",
              "    <div class=\"colab-df-buttons\">\n",
              "\n",
              "  <div class=\"colab-df-container\">\n",
              "    <button class=\"colab-df-convert\" onclick=\"convertToInteractive('df-c4b357ce-b8f7-4b83-8fa4-75d3ce5a0117')\"\n",
              "            title=\"Convert this dataframe to an interactive table.\"\n",
              "            style=\"display:none;\">\n",
              "\n",
              "  <svg xmlns=\"http://www.w3.org/2000/svg\" height=\"24px\" viewBox=\"0 -960 960 960\">\n",
              "    <path d=\"M120-120v-720h720v720H120Zm60-500h600v-160H180v160Zm220 220h160v-160H400v160Zm0 220h160v-160H400v160ZM180-400h160v-160H180v160Zm440 0h160v-160H620v160ZM180-180h160v-160H180v160Zm440 0h160v-160H620v160Z\"/>\n",
              "  </svg>\n",
              "    </button>\n",
              "\n",
              "  <style>\n",
              "    .colab-df-container {\n",
              "      display:flex;\n",
              "      gap: 12px;\n",
              "    }\n",
              "\n",
              "    .colab-df-convert {\n",
              "      background-color: #E8F0FE;\n",
              "      border: none;\n",
              "      border-radius: 50%;\n",
              "      cursor: pointer;\n",
              "      display: none;\n",
              "      fill: #1967D2;\n",
              "      height: 32px;\n",
              "      padding: 0 0 0 0;\n",
              "      width: 32px;\n",
              "    }\n",
              "\n",
              "    .colab-df-convert:hover {\n",
              "      background-color: #E2EBFA;\n",
              "      box-shadow: 0px 1px 2px rgba(60, 64, 67, 0.3), 0px 1px 3px 1px rgba(60, 64, 67, 0.15);\n",
              "      fill: #174EA6;\n",
              "    }\n",
              "\n",
              "    .colab-df-buttons div {\n",
              "      margin-bottom: 4px;\n",
              "    }\n",
              "\n",
              "    [theme=dark] .colab-df-convert {\n",
              "      background-color: #3B4455;\n",
              "      fill: #D2E3FC;\n",
              "    }\n",
              "\n",
              "    [theme=dark] .colab-df-convert:hover {\n",
              "      background-color: #434B5C;\n",
              "      box-shadow: 0px 1px 3px 1px rgba(0, 0, 0, 0.15);\n",
              "      filter: drop-shadow(0px 1px 2px rgba(0, 0, 0, 0.3));\n",
              "      fill: #FFFFFF;\n",
              "    }\n",
              "  </style>\n",
              "\n",
              "    <script>\n",
              "      const buttonEl =\n",
              "        document.querySelector('#df-c4b357ce-b8f7-4b83-8fa4-75d3ce5a0117 button.colab-df-convert');\n",
              "      buttonEl.style.display =\n",
              "        google.colab.kernel.accessAllowed ? 'block' : 'none';\n",
              "\n",
              "      async function convertToInteractive(key) {\n",
              "        const element = document.querySelector('#df-c4b357ce-b8f7-4b83-8fa4-75d3ce5a0117');\n",
              "        const dataTable =\n",
              "          await google.colab.kernel.invokeFunction('convertToInteractive',\n",
              "                                                    [key], {});\n",
              "        if (!dataTable) return;\n",
              "\n",
              "        const docLinkHtml = 'Like what you see? Visit the ' +\n",
              "          '<a target=\"_blank\" href=https://colab.research.google.com/notebooks/data_table.ipynb>data table notebook</a>'\n",
              "          + ' to learn more about interactive tables.';\n",
              "        element.innerHTML = '';\n",
              "        dataTable['output_type'] = 'display_data';\n",
              "        await google.colab.output.renderOutput(dataTable, element);\n",
              "        const docLink = document.createElement('div');\n",
              "        docLink.innerHTML = docLinkHtml;\n",
              "        element.appendChild(docLink);\n",
              "      }\n",
              "    </script>\n",
              "  </div>\n",
              "\n",
              "\n",
              "<div id=\"df-b3145af3-a20b-4e6f-9f6a-c6138f2cf200\">\n",
              "  <button class=\"colab-df-quickchart\" onclick=\"quickchart('df-b3145af3-a20b-4e6f-9f6a-c6138f2cf200')\"\n",
              "            title=\"Suggest charts\"\n",
              "            style=\"display:none;\">\n",
              "\n",
              "<svg xmlns=\"http://www.w3.org/2000/svg\" height=\"24px\"viewBox=\"0 0 24 24\"\n",
              "     width=\"24px\">\n",
              "    <g>\n",
              "        <path d=\"M19 3H5c-1.1 0-2 .9-2 2v14c0 1.1.9 2 2 2h14c1.1 0 2-.9 2-2V5c0-1.1-.9-2-2-2zM9 17H7v-7h2v7zm4 0h-2V7h2v10zm4 0h-2v-4h2v4z\"/>\n",
              "    </g>\n",
              "</svg>\n",
              "  </button>\n",
              "\n",
              "<style>\n",
              "  .colab-df-quickchart {\n",
              "      --bg-color: #E8F0FE;\n",
              "      --fill-color: #1967D2;\n",
              "      --hover-bg-color: #E2EBFA;\n",
              "      --hover-fill-color: #174EA6;\n",
              "      --disabled-fill-color: #AAA;\n",
              "      --disabled-bg-color: #DDD;\n",
              "  }\n",
              "\n",
              "  [theme=dark] .colab-df-quickchart {\n",
              "      --bg-color: #3B4455;\n",
              "      --fill-color: #D2E3FC;\n",
              "      --hover-bg-color: #434B5C;\n",
              "      --hover-fill-color: #FFFFFF;\n",
              "      --disabled-bg-color: #3B4455;\n",
              "      --disabled-fill-color: #666;\n",
              "  }\n",
              "\n",
              "  .colab-df-quickchart {\n",
              "    background-color: var(--bg-color);\n",
              "    border: none;\n",
              "    border-radius: 50%;\n",
              "    cursor: pointer;\n",
              "    display: none;\n",
              "    fill: var(--fill-color);\n",
              "    height: 32px;\n",
              "    padding: 0;\n",
              "    width: 32px;\n",
              "  }\n",
              "\n",
              "  .colab-df-quickchart:hover {\n",
              "    background-color: var(--hover-bg-color);\n",
              "    box-shadow: 0 1px 2px rgba(60, 64, 67, 0.3), 0 1px 3px 1px rgba(60, 64, 67, 0.15);\n",
              "    fill: var(--button-hover-fill-color);\n",
              "  }\n",
              "\n",
              "  .colab-df-quickchart-complete:disabled,\n",
              "  .colab-df-quickchart-complete:disabled:hover {\n",
              "    background-color: var(--disabled-bg-color);\n",
              "    fill: var(--disabled-fill-color);\n",
              "    box-shadow: none;\n",
              "  }\n",
              "\n",
              "  .colab-df-spinner {\n",
              "    border: 2px solid var(--fill-color);\n",
              "    border-color: transparent;\n",
              "    border-bottom-color: var(--fill-color);\n",
              "    animation:\n",
              "      spin 1s steps(1) infinite;\n",
              "  }\n",
              "\n",
              "  @keyframes spin {\n",
              "    0% {\n",
              "      border-color: transparent;\n",
              "      border-bottom-color: var(--fill-color);\n",
              "      border-left-color: var(--fill-color);\n",
              "    }\n",
              "    20% {\n",
              "      border-color: transparent;\n",
              "      border-left-color: var(--fill-color);\n",
              "      border-top-color: var(--fill-color);\n",
              "    }\n",
              "    30% {\n",
              "      border-color: transparent;\n",
              "      border-left-color: var(--fill-color);\n",
              "      border-top-color: var(--fill-color);\n",
              "      border-right-color: var(--fill-color);\n",
              "    }\n",
              "    40% {\n",
              "      border-color: transparent;\n",
              "      border-right-color: var(--fill-color);\n",
              "      border-top-color: var(--fill-color);\n",
              "    }\n",
              "    60% {\n",
              "      border-color: transparent;\n",
              "      border-right-color: var(--fill-color);\n",
              "    }\n",
              "    80% {\n",
              "      border-color: transparent;\n",
              "      border-right-color: var(--fill-color);\n",
              "      border-bottom-color: var(--fill-color);\n",
              "    }\n",
              "    90% {\n",
              "      border-color: transparent;\n",
              "      border-bottom-color: var(--fill-color);\n",
              "    }\n",
              "  }\n",
              "</style>\n",
              "\n",
              "  <script>\n",
              "    async function quickchart(key) {\n",
              "      const quickchartButtonEl =\n",
              "        document.querySelector('#' + key + ' button');\n",
              "      quickchartButtonEl.disabled = true;  // To prevent multiple clicks.\n",
              "      quickchartButtonEl.classList.add('colab-df-spinner');\n",
              "      try {\n",
              "        const charts = await google.colab.kernel.invokeFunction(\n",
              "            'suggestCharts', [key], {});\n",
              "      } catch (error) {\n",
              "        console.error('Error during call to suggestCharts:', error);\n",
              "      }\n",
              "      quickchartButtonEl.classList.remove('colab-df-spinner');\n",
              "      quickchartButtonEl.classList.add('colab-df-quickchart-complete');\n",
              "    }\n",
              "    (() => {\n",
              "      let quickchartButtonEl =\n",
              "        document.querySelector('#df-b3145af3-a20b-4e6f-9f6a-c6138f2cf200 button');\n",
              "      quickchartButtonEl.style.display =\n",
              "        google.colab.kernel.accessAllowed ? 'block' : 'none';\n",
              "    })();\n",
              "  </script>\n",
              "</div>\n",
              "\n",
              "    </div>\n",
              "  </div>\n"
            ],
            "application/vnd.google.colaboratory.intrinsic+json": {
              "type": "dataframe",
              "variable_name": "df",
              "summary": "{\n  \"name\": \"df\",\n  \"rows\": 21459,\n  \"fields\": [\n    {\n      \"column\": \"abstract_text\",\n      \"properties\": {\n        \"dtype\": \"string\",\n        \"num_unique_values\": 21421,\n        \"samples\": [\n          \"All SCV catheterizations were guided by US and performed by a single experienced anaesthesiologist .\",\n          \"Significance was tested using repeated-measures analyses and Wilcoxon paired-sample signed rank tests .\",\n          \"This study sought to test the efficacy of the booster session in maintaining or recovering program effects at six months post-program .\"\n        ],\n        \"semantic_type\": \"\",\n        \"description\": \"\"\n      }\n    },\n    {\n      \"column\": \"line_number\",\n      \"properties\": {\n        \"dtype\": \"number\",\n        \"std\": 4,\n        \"min\": 0,\n        \"max\": 36,\n        \"num_unique_values\": 36,\n        \"samples\": [\n          35,\n          17,\n          27\n        ],\n        \"semantic_type\": \"\",\n        \"description\": \"\"\n      }\n    },\n    {\n      \"column\": \"total_lines\",\n      \"properties\": {\n        \"dtype\": \"number\",\n        \"std\": 3,\n        \"min\": 4,\n        \"max\": 37,\n        \"num_unique_values\": 30,\n        \"samples\": [\n          27,\n          20,\n          28\n        ],\n        \"semantic_type\": \"\",\n        \"description\": \"\"\n      }\n    },\n    {\n      \"column\": \"current_line\",\n      \"properties\": {\n        \"dtype\": \"category\",\n        \"num_unique_values\": 378,\n        \"samples\": [\n          \"19_22\",\n          \"14_24\",\n          \"16_28\"\n        ],\n        \"semantic_type\": \"\",\n        \"description\": \"\"\n      }\n    },\n    {\n      \"column\": \"target\",\n      \"properties\": {\n        \"dtype\": \"category\",\n        \"num_unique_values\": 4,\n        \"samples\": [\n          \"METHODS\",\n          \"CONCLUSIONS\",\n          \"BACKGROUND\"\n        ],\n        \"semantic_type\": \"\",\n        \"description\": \"\"\n      }\n    },\n    {\n      \"column\": \"word_count\",\n      \"properties\": {\n        \"dtype\": \"number\",\n        \"std\": 14,\n        \"min\": 1,\n        \"max\": 209,\n        \"num_unique_values\": 141,\n        \"samples\": [\n          70,\n          108,\n          48\n        ],\n        \"semantic_type\": \"\",\n        \"description\": \"\"\n      }\n    }\n  ]\n}"
            }
          },
          "metadata": {},
          "execution_count": 1
        }
      ]
    },
    {
      "cell_type": "code",
      "source": [
        "df.info(), df.describe()"
      ],
      "metadata": {
        "colab": {
          "base_uri": "https://localhost:8080/"
        },
        "id": "soXd1Vt3luR5",
        "outputId": "f0e16710-37e4-4407-fc89-ca5b06905721"
      },
      "execution_count": 2,
      "outputs": [
        {
          "output_type": "stream",
          "name": "stdout",
          "text": [
            "<class 'pandas.core.frame.DataFrame'>\n",
            "RangeIndex: 21459 entries, 0 to 21458\n",
            "Data columns (total 6 columns):\n",
            " #   Column         Non-Null Count  Dtype \n",
            "---  ------         --------------  ----- \n",
            " 0   abstract_text  21459 non-null  object\n",
            " 1   line_number    21459 non-null  int64 \n",
            " 2   total_lines    21459 non-null  int64 \n",
            " 3   current_line   21459 non-null  object\n",
            " 4   target         21459 non-null  object\n",
            " 5   word_count     21459 non-null  int64 \n",
            "dtypes: int64(3), object(3)\n",
            "memory usage: 1006.0+ KB\n"
          ]
        },
        {
          "output_type": "execute_result",
          "data": {
            "text/plain": [
              "(None,\n",
              "         line_number   total_lines    word_count\n",
              " count  21459.000000  21459.000000  21459.000000\n",
              " mean       6.349224     12.447318     25.633580\n",
              " std        4.425220      3.355649     14.622477\n",
              " min        0.000000      4.000000      1.000000\n",
              " 25%        3.000000     10.000000     16.000000\n",
              " 50%        6.000000     12.000000     23.000000\n",
              " 75%        9.000000     14.000000     32.000000\n",
              " max       36.000000     37.000000    209.000000)"
            ]
          },
          "metadata": {},
          "execution_count": 2
        }
      ]
    },
    {
      "cell_type": "markdown",
      "source": [
        "\n",
        "\n",
        "*   There are no missing values in the dataset.\n",
        "*   Column Types:\n",
        "1. abstract_text: Contains the actual text (non-numeric, categorical).\n",
        "2. line_number: Numerical, represents the position of the line within an abstract.\n",
        "3. total_lines: Numerical, indicates the total number of lines in each abstract.\n",
        "4. current_line: Categorical, likely represents a combination of the current and total line number.\n",
        "5. target: Categorical, which could represent different sections of a paper (e.g., Background, Methods, etc.).\n",
        "\n",
        "\n",
        "\n",
        "* Both the line_number and total_lines columns seem to have a fairly symmetric distribution around their mean values, with a median close to the mean, suggesting no extreme skewness.\n"
      ],
      "metadata": {
        "id": "tGVu2J2xmDw_"
      }
    },
    {
      "source": [
        "#target\n",
        "from matplotlib import pyplot as plt\n",
        "import seaborn as sns\n",
        "df.groupby('target').size().plot(kind='barh', color=sns.palettes.mpl_palette('Dark2'))\n",
        "plt.gca().spines[['top', 'right',]].set_visible(False)"
      ],
      "cell_type": "code",
      "execution_count": 3,
      "outputs": [
        {
          "output_type": "display_data",
          "data": {
            "text/plain": [
              "<Figure size 640x480 with 1 Axes>"
            ],
            "image/png": "[encoded data removed]"
          },
          "metadata": {}
        }
      ],
      "metadata": {
        "colab": {
          "base_uri": "https://localhost:8080/",
          "height": 430
        },
        "id": "BmKWdsgtkfhA",
        "outputId": "143271d6-6193-4db7-9fbf-072db6d79aa9"
      }
    },
    {
      "cell_type": "code",
      "source": [
        "#check for data adequacy\n",
        "df.isnull().sum()"
      ],
      "metadata": {
        "colab": {
          "base_uri": "https://localhost:8080/",
          "height": 272
        },
        "id": "ElGafYNOkjTQ",
        "outputId": "caee4f05-d815-49fe-9833-a2832eab9697"
      },
      "execution_count": 4,
      "outputs": [
        {
          "output_type": "execute_result",
          "data": {
            "text/plain": [
              "abstract_text    0\n",
              "line_number      0\n",
              "total_lines      0\n",
              "current_line     0\n",
              "target           0\n",
              "word_count       0\n",
              "dtype: int64"
            ],
            "text/html": [
              "<div>\n",
              "<style scoped>\n",
              "    .dataframe tbody tr th:only-of-type {\n",
              "        vertical-align: middle;\n",
              "    }\n",
              "\n",
              "    .dataframe tbody tr th {\n",
              "        vertical-align: top;\n",
              "    }\n",
              "\n",
              "    .dataframe thead th {\n",
              "        text-align: right;\n",
              "    }\n",
              "</style>\n",
              "<table border=\"1\" class=\"dataframe\">\n",
              "  <thead>\n",
              "    <tr style=\"text-align: right;\">\n",
              "      <th></th>\n",
              "      <th>0</th>\n",
              "    </tr>\n",
              "  </thead>\n",
              "  <tbody>\n",
              "    <tr>\n",
              "      <th>abstract_text</th>\n",
              "      <td>0</td>\n",
              "    </tr>\n",
              "    <tr>\n",
              "      <th>line_number</th>\n",
              "      <td>0</td>\n",
              "    </tr>\n",
              "    <tr>\n",
              "      <th>total_lines</th>\n",
              "      <td>0</td>\n",
              "    </tr>\n",
              "    <tr>\n",
              "      <th>current_line</th>\n",
              "      <td>0</td>\n",
              "    </tr>\n",
              "    <tr>\n",
              "      <th>target</th>\n",
              "      <td>0</td>\n",
              "    </tr>\n",
              "    <tr>\n",
              "      <th>word_count</th>\n",
              "      <td>0</td>\n",
              "    </tr>\n",
              "  </tbody>\n",
              "</table>\n",
              "</div><br><label><b>dtype:</b> int64</label>"
            ]
          },
          "metadata": {},
          "execution_count": 4
        }
      ]
    },
    {
      "cell_type": "code",
      "source": [
        "# Descriptive statistics for numeric columns\n",
        "numeric_stats = df.describe()\n",
        "\n",
        "# Descriptive statistics for categorical columns\n",
        "categorical_stats = df.describe(include=['object'])\n",
        "\n",
        "print(numeric_stats)\n",
        "print(categorical_stats)"
      ],
      "metadata": {
        "colab": {
          "base_uri": "https://localhost:8080/"
        },
        "id": "VzAg_vCAko2N",
        "outputId": "dac3d46a-c9b6-4496-92a1-ca324f9ceaaa"
      },
      "execution_count": 5,
      "outputs": [
        {
          "output_type": "stream",
          "name": "stdout",
          "text": [
            "        line_number   total_lines    word_count\n",
            "count  21459.000000  21459.000000  21459.000000\n",
            "mean       6.349224     12.447318     25.633580\n",
            "std        4.425220      3.355649     14.622477\n",
            "min        0.000000      4.000000      1.000000\n",
            "25%        3.000000     10.000000     16.000000\n",
            "50%        6.000000     12.000000     23.000000\n",
            "75%        9.000000     14.000000     32.000000\n",
            "max       36.000000     37.000000    209.000000\n",
            "                          abstract_text current_line   target\n",
            "count                             21459        21459    21459\n",
            "unique                            21421          378        4\n",
            "top     http://www.clinicaltrials.gov .        10_11  RESULTS\n",
            "freq                                  8          513     6580\n"
          ]
        }
      ]
    },
    {
      "cell_type": "code",
      "source": [
        "# Count the number of occurrences of each class in the 'target' column\n",
        "target_counts = df['target'].value_counts()\n",
        "print(target_counts)"
      ],
      "metadata": {
        "colab": {
          "base_uri": "https://localhost:8080/"
        },
        "id": "TNvV2d6cmyca",
        "outputId": "29434ef5-05ce-4282-f3fb-9acb152d46ae"
      },
      "execution_count": 6,
      "outputs": [
        {
          "output_type": "stream",
          "name": "stdout",
          "text": [
            "target\n",
            "RESULTS        6580\n",
            "CONCLUSIONS    5789\n",
            "BACKGROUND     4590\n",
            "METHODS        4500\n",
            "Name: count, dtype: int64\n"
          ]
        }
      ]
    },
    {
      "cell_type": "code",
      "source": [
        "#check for outliers using boxplot\n",
        "import matplotlib.pyplot as plt\n",
        "import seaborn as sns\n",
        "\n",
        "# Boxplot for numerical columns\n",
        "for col in ['line_number', 'total_lines']:\n",
        "    plt.figure(figsize=(10, 5))\n",
        "    sns.boxplot(df[col])\n",
        "    plt.title(f'Boxplot of {col}')\n",
        "    plt.show()"
      ],
      "metadata": {
        "colab": {
          "base_uri": "https://localhost:8080/",
          "height": 970
        },
        "id": "HrSFgf1lm2KP",
        "outputId": "a89eff62-a893-48ac-aa9e-132bee57f11e"
      },
      "execution_count": 7,
      "outputs": [
        {
          "output_type": "stream",
          "name": "stderr",
          "text": [
            "/usr/local/lib/python3.10/dist-packages/seaborn/categorical.py:640: FutureWarning: SeriesGroupBy.grouper is deprecated and will be removed in a future version of pandas.\n",
            "  positions = grouped.grouper.result_index.to_numpy(dtype=float)\n"
          ]
        },
        {
          "output_type": "display_data",
          "data": {
            "text/plain": [
              "<Figure size 1000x500 with 1 Axes>"
            ],
            "image/png": "[encoded data removed]"
          },
          "metadata": {}
        },
        {
          "output_type": "stream",
          "name": "stderr",
          "text": [
            "/usr/local/lib/python3.10/dist-packages/seaborn/categorical.py:640: FutureWarning: SeriesGroupBy.grouper is deprecated and will be removed in a future version of pandas.\n",
            "  positions = grouped.grouper.result_index.to_numpy(dtype=float)\n"
          ]
        },
        {
          "output_type": "display_data",
          "data": {
            "text/plain": [
              "<Figure size 1000x500 with 1 Axes>"
            ],
            "image/png": "[encoded data removed]"
          },
          "metadata": {}
        }
      ]
    },
    {
      "cell_type": "markdown",
      "source": [
        "1. Majority of the Data: Most abstracts\n",
        "have between 10 to 15 lines, with a median of 12 lines.\n",
        "2. Outliers: A small number of abstracts (those with more than 20 lines) are outliers, with the maximum number of lines being around 36."
      ],
      "metadata": {
        "id": "7RQPg-0cnOo7"
      }
    },
    {
      "cell_type": "code",
      "source": [
        "#removing outliers using IQR\n",
        "def remove_outliers(df, column):\n",
        "    Q1 = df[column].quantile(0.25)\n",
        "    Q3 = df[column].quantile(0.75)\n",
        "    IQR = Q3 - Q1\n",
        "    lower_bound = Q1 - 1.5 * IQR\n",
        "    upper_bound = Q3 + 1.5 * IQR\n",
        "    return df[(df[column] >= lower_bound) & (df[column] <= upper_bound)]\n",
        "\n",
        "# Apply outlier removal on numerical columns\n",
        "df_cleaned = remove_outliers(df, 'line_number')\n",
        "df_cleaned = remove_outliers(df_cleaned, 'total_lines')\n"
      ],
      "metadata": {
        "id": "8UliwC5UnUR8"
      },
      "execution_count": 8,
      "outputs": []
    },
    {
      "cell_type": "code",
      "source": [
        "# Fill missing values with the mean for numeric columns only\n",
        "df_numeric = df.select_dtypes(include=['number'])\n",
        "df_filled = df.copy()\n",
        "\n",
        "# Fill missing values in numeric columns with the mean of the respective column\n",
        "df_filled[df_numeric.columns] = df_numeric.fillna(df_numeric.mean())\n",
        "\n",
        "# If you want to fill missing values in non-numeric columns with a placeholder or some other value\n",
        "df_filled['abstract_text'] = df_filled['abstract_text'].fillna('Unknown')\n",
        "\n",
        "# Now df_filled has missing values replaced appropriately\n"
      ],
      "metadata": {
        "id": "AemBoLg2nbkN"
      },
      "execution_count": 9,
      "outputs": []
    },
    {
      "cell_type": "code",
      "source": [
        "# Histogram to see distribution\n",
        "df_filled.hist(figsize=(10, 6))\n",
        "plt.show()"
      ],
      "metadata": {
        "colab": {
          "base_uri": "https://localhost:8080/",
          "height": 545
        },
        "id": "FD_k-8pQoyoM",
        "outputId": "98b33c61-d2f8-4c8c-e830-552fbbef4a9e"
      },
      "execution_count": 10,
      "outputs": [
        {
          "output_type": "display_data",
          "data": {
            "text/plain": [
              "<Figure size 1000x600 with 4 Axes>"
            ],
            "image/png": "[encoded data removed]"
          },
          "metadata": {}
        }
      ]
    },
    {
      "cell_type": "code",
      "source": [
        "# Calculate word count for each abstract\n",
        "df_filled['word_count'] = df_filled['abstract_text'].apply(lambda x: len(str(x).split()))\n",
        "\n",
        "# Descriptive statistics for word count\n",
        "mean_word_count = df_filled['word_count'].mean()\n",
        "percentile_75_word_count = np.percentile(df_filled['word_count'], 75)\n",
        "percentile_25_word_count = np.percentile(df_filled['word_count'], 25)\n",
        "median_word_count = df_filled['word_count'].median()\n",
        "Q3_word_count = df_filled['word_count'].quantile(0.75)\n",
        "\n",
        "# Output results\n",
        "print(f'Mean Word Count: {mean_word_count}')\n",
        "print(f'75th Percentile Word Count: {percentile_75_word_count}')\n",
        "print(f'25th Percentile Word Count: {percentile_25_word_count}')\n",
        "print(f'Median Word Count: {median_word_count}')\n",
        "print(f'Q3 Word Count: {Q3_word_count}')\n"
      ],
      "metadata": {
        "colab": {
          "base_uri": "https://localhost:8080/"
        },
        "id": "D5j7BpvtpKnq",
        "outputId": "52576364-e5f5-4d53-f81a-af2d2f13e64b"
      },
      "execution_count": null,
      "outputs": [
        {
          "output_type": "stream",
          "name": "stdout",
          "text": [
            "Mean Word Count: 26.384875\n",
            "75th Percentile Word Count: 33.0\n",
            "25th Percentile Word Count: 16.0\n",
            "Median Word Count: 23.0\n",
            "Q3 Word Count: 33.0\n"
          ]
        }
      ]
    },
    {
      "cell_type": "markdown",
      "source": [
        "1. The abstracts tend to be fairly short, with most abstracts ranging from 16 to 33 words.\n",
        "2. The median (23 words) is close to the mean (26.38 words). It suggests that the distribution is not heavily skewed, though there may be a few longer abstracts pulling the average slightly upward."
      ],
      "metadata": {
        "id": "AUyltiR_pdQr"
      }
    },
    {
      "cell_type": "code",
      "source": [
        "from scipy import stats\n",
        "import numpy as np\n",
        "\n",
        "# Calculate Q1 (25th percentile), Q3 (75th percentile), and IQR\n",
        "Q1 = df_filled['word_count'].quantile(0.25)\n",
        "Q3 = df_filled['word_count'].quantile(0.75)\n",
        "IQR = Q3 - Q1\n",
        "\n",
        "# Calculate the lower and upper bounds for outlier detection\n",
        "lower_bound = Q1 - 1.5 * IQR\n",
        "upper_bound = Q3 + 1.5 * IQR\n",
        "\n",
        "# Filter the dataset to exclude outliers (i.e., keep only the data points within the bounds)\n",
        "trimmed_df = df_filled[(df_filled['word_count'] >= lower_bound) & (df_filled['word_count'] <= upper_bound)]\n",
        "\n",
        "# Calculate the trimmed mean, median, and standard deviation\n",
        "trimmed_mean = trimmed_df['word_count'].mean()\n",
        "trimmed_median = trimmed_df['word_count'].median()\n",
        "trimmed_std = trimmed_df['word_count'].std()\n",
        "\n",
        "# Calculate the trimming factor (percentage of data removed)\n",
        "total_data_points = len(df_filled)\n",
        "trimmed_data_points = len(trimmed_df)\n",
        "trimming_factor = (total_data_points - trimmed_data_points) / total_data_points * 100\n",
        "\n",
        "# Print the results\n",
        "print(f\"Trimmed Mean: {trimmed_mean}\")\n",
        "print(f\"Trimmed Median: {trimmed_median}\")\n",
        "print(f\"Trimmed Standard Deviation: {trimmed_std}\")\n",
        "print(f\"Trimming Factor: {trimming_factor:.2f}% of data points removed as outliers\")\n"
      ],
      "metadata": {
        "colab": {
          "base_uri": "https://localhost:8080/"
        },
        "id": "WrTXLmh2p7XB",
        "outputId": "020c2714-a406-4446-9dba-ee54a80c610a"
      },
      "execution_count": 11,
      "outputs": [
        {
          "output_type": "stream",
          "name": "stdout",
          "text": [
            "Trimmed Mean: 23.88503693689344\n",
            "Trimmed Median: 22.0\n",
            "Trimmed Standard Deviation: 10.889864501577263\n",
            "Trimming Factor: 3.49% of data points removed as outliers\n"
          ]
        }
      ]
    },
    {
      "cell_type": "code",
      "source": [
        "# Computing the correlation between numerical columns\n",
        "correlation_matrix = df_filled[['line_number', 'total_lines']].corr()\n",
        "\n",
        "# Display the correlation matrix\n",
        "print(correlation_matrix)"
      ],
      "metadata": {
        "colab": {
          "base_uri": "https://localhost:8080/"
        },
        "id": "vV5MgGFSrN4T",
        "outputId": "29087baf-a783-46a3-ae6b-aeeabb7a6eed"
      },
      "execution_count": 12,
      "outputs": [
        {
          "output_type": "stream",
          "name": "stdout",
          "text": [
            "             line_number  total_lines\n",
            "line_number     1.000000     0.396556\n",
            "total_lines     0.396556     1.000000\n"
          ]
        }
      ]
    },
    {
      "cell_type": "code",
      "source": [
        "# Convert abstract texts to TF-IDF feature vectors\n",
        "from sklearn.feature_extraction.text import TfidfVectorizer\n",
        "import numpy as np\n",
        "\n",
        "tfidf_vectorizer = TfidfVectorizer(max_features=80)\n",
        "tfidf_matrix = tfidf_vectorizer.fit_transform(df_filled['abstract_text'])\n",
        "\n",
        "# Convert the sparse matrix to a dense matrix\n",
        "tfidf_dense = tfidf_matrix.toarray()\n",
        "\n",
        "# Calculate the correlation matrix\n",
        "correlation_matrix = np.corrcoef(tfidf_dense, rowvar=False)\n",
        "\n",
        "# Display the correlation matrix\n",
        "print(correlation_matrix)\n",
        "\n",
        "plt.figure(figsize=(10, 6))\n",
        "sns.heatmap(correlation_matrix, annot=False, cmap='coolwarm')\n",
        "plt.title('Correlation Matrix of TF-IDF Features')\n",
        "plt.show()"
      ],
      "metadata": {
        "colab": {
          "base_uri": "https://localhost:8080/",
          "height": 774
        },
        "id": "ctUFIGzerrWM",
        "outputId": "075a7e5c-0437-40cc-bc94-ef159d631a4b"
      },
      "execution_count": 13,
      "outputs": [
        {
          "output_type": "stream",
          "name": "stdout",
          "text": [
            "[[ 1.          0.03579071  0.03878999 ...  0.01604015 -0.00521441\n",
            "  -0.0131402 ]\n",
            " [ 0.03579071  1.          0.03124336 ...  0.01422108 -0.00150518\n",
            "  -0.02152964]\n",
            " [ 0.03878999  0.03124336  1.         ... -0.01903871  0.00122302\n",
            "  -0.00514274]\n",
            " ...\n",
            " [ 0.01604015  0.01422108 -0.01903871 ...  1.          0.02976361\n",
            "  -0.041191  ]\n",
            " [-0.00521441 -0.00150518  0.00122302 ...  0.02976361  1.\n",
            "   0.00465518]\n",
            " [-0.0131402  -0.02152964 -0.00514274 ... -0.041191    0.00465518\n",
            "   1.        ]]\n"
          ]
        },
        {
          "output_type": "display_data",
          "data": {
            "text/plain": [
              "<Figure size 1000x600 with 2 Axes>"
            ],
            "image/png": "[encoded data removed]"
          },
          "metadata": {}
        }
      ]
    },
    {
      "cell_type": "code",
      "source": [
        "from sklearn.model_selection import train_test_split\n",
        "from sklearn.feature_extraction.text import TfidfVectorizer\n",
        "from sklearn.linear_model import LogisticRegression\n",
        "from sklearn.svm import SVC\n",
        "from sklearn.ensemble import RandomForestClassifier\n",
        "from sklearn.naive_bayes import MultinomialNB\n",
        "from sklearn.metrics import (\n",
        "    accuracy_score, precision_score, recall_score, f1_score, roc_auc_score,\n",
        "    confusion_matrix, log_loss, matthews_corrcoef, cohen_kappa_score\n",
        ")\n",
        "\n",
        "X = df_filled['abstract_text']\n",
        "y = df_filled['target']\n",
        "# Vectorize the text data\n",
        "tfidf = TfidfVectorizer(max_features=5000)  # Limit features to speed up computation\n",
        "X_tfidf = tfidf.fit_transform(X)\n",
        "\n",
        "# Function to run experiments with different algorithms and evaluation metrics\n",
        "def run_experiment(model, model_name):\n",
        "    results = {}\n",
        "\n",
        "    for split in [(0.5, 0.5), (0.6, 0.4), (0.7, 0.3), (0.8, 0.2)]:\n",
        "        X_train, X_test, y_train, y_test = train_test_split(X_tfidf, y, test_size=split[1], random_state=42)\n",
        "\n",
        "        # Train the model\n",
        "        model.fit(X_train, y_train)\n",
        "        y_pred = model.predict(X_test)\n",
        "\n",
        "        # Check if model supports predict_proba\n",
        "        if hasattr(model, \"predict_proba\"):\n",
        "            y_prob = model.predict_proba(X_test)\n",
        "        else:\n",
        "            y_prob = None  # No probability predictions available\n",
        "\n",
        "        # Collect all evaluation metrics\n",
        "        accuracy = accuracy_score(y_test, y_pred)\n",
        "        precision = precision_score(y_test, y_pred, average='macro')\n",
        "        recall = recall_score(y_test, y_pred, average='macro')\n",
        "        f1 = f1_score(y_test, y_pred, average='macro')\n",
        "\n",
        "        # Use ROC-AUC and Log-Loss only if probability predictions are available\n",
        "        auc = roc_auc_score(y_test, y_prob, multi_class='ovr') if y_prob is not None else 'N/A'\n",
        "        loss = log_loss(y_test, y_prob) if y_prob is not None else 'N/A'\n",
        "\n",
        "        cm = confusion_matrix(y_test, y_pred)\n",
        "        mcc = matthews_corrcoef(y_test, y_pred)\n",
        "        kappa = cohen_kappa_score(y_test, y_pred)\n",
        "\n",
        "        results[split] = {\n",
        "            'Accuracy': accuracy,\n",
        "            'Precision': precision,\n",
        "            'Recall': recall,\n",
        "            'F1-Score': f1,\n",
        "            'AUC-ROC': auc,\n",
        "            'Confusion Matrix': cm,\n",
        "            'Log-Loss': loss,\n",
        "            'MCC': mcc,\n",
        "            'Cohen\\'s Kappa': kappa\n",
        "        }\n",
        "\n",
        "    return results\n",
        "\n",
        "# Models\n",
        "models = {\n",
        "    'Logistic Regression': LogisticRegression(max_iter=1000),\n",
        "    'Multinomial NB': MultinomialNB(),\n",
        "    'Random Forest': RandomForestClassifier(n_estimators=100, random_state=42),\n",
        "    'SVM': SVC(kernel='linear', probability=True)\n",
        "}\n",
        "\n",
        "# Running experiments for all models\n",
        "for name, model in models.items():\n",
        "    print(f\"Running experiments for {name}...\")\n",
        "    results = run_experiment(model, name)\n",
        "\n",
        "    # Display the results\n",
        "    for split, metrics in results.items():\n",
        "        print(f\"\\nTrain-Test Split: {split[0]*100}-{split[1]*100}\")\n",
        "        for metric, value in metrics.items():\n",
        "            print(f\"{metric}: {value}\")\n"
      ],
      "metadata": {
        "colab": {
          "base_uri": "https://localhost:8080/"
        },
        "id": "h_Y-gx4YBhSX",
        "outputId": "6c693410-74cb-4119-ae6f-18112bade64d"
      },
      "execution_count": 15,
      "outputs": [
        {
          "output_type": "stream",
          "name": "stdout",
          "text": [
            "Running experiments for Logistic Regression...\n",
            "\n",
            "Train-Test Split: 50.0-50.0\n",
            "Accuracy: 0.7785647716682199\n",
            "Precision: 0.7803877720563726\n",
            "Recall: 0.7761447802104356\n",
            "F1-Score: 0.7780181638285575\n",
            "AUC-ROC: 0.9383812638431921\n",
            "Confusion Matrix: [[1709  452   87   38]\n",
            " [ 344 2126   62  304]\n",
            " [  97   76 1821  306]\n",
            " [  54  316  240 2698]]\n",
            "Log-Loss: 0.6301679927230324\n",
            "MCC: 0.7020301809170791\n",
            "Cohen's Kappa: 0.7018889180490362\n",
            "\n",
            "Train-Test Split: 60.0-40.0\n",
            "Accuracy: 0.7816868592730661\n",
            "Precision: 0.7825197455882078\n",
            "Recall: 0.779817748515651\n",
            "F1-Score: 0.7810535811232707\n",
            "AUC-ROC: 0.9394648736636056\n",
            "Confusion Matrix: [[1376  342   74   32]\n",
            " [ 276 1682   49  251]\n",
            " [  81   62 1479  219]\n",
            " [  45  249  194 2173]]\n",
            "Log-Loss: 0.6173165990246088\n",
            "MCC: 0.7062235475143367\n",
            "Cohen's Kappa: 0.7061570417563501\n",
            "\n",
            "Train-Test Split: 70.0-30.0\n",
            "Accuracy: 0.7837837837837838\n",
            "Precision: 0.7846969579884271\n",
            "Recall: 0.7826285314754495\n",
            "F1-Score: 0.7835884495767305\n",
            "AUC-ROC: 0.9386709474982053\n",
            "Confusion Matrix: [[1058  238   52   21]\n",
            " [ 204 1292   37  187]\n",
            " [  63   52 1091  169]\n",
            " [  34  180  155 1605]]\n",
            "Log-Loss: 0.615000557675261\n",
            "MCC: 0.7091582128342466\n",
            "Cohen's Kappa: 0.7091174423797999\n",
            "\n",
            "Train-Test Split: 80.0-20.0\n",
            "Accuracy: 0.7802889095992545\n",
            "Precision: 0.7809040171154138\n",
            "Recall: 0.7788773427103057\n",
            "F1-Score: 0.7797974961917495\n",
            "AUC-ROC: 0.9378387308030834\n",
            "Confusion Matrix: [[ 691  163   38   16]\n",
            " [ 136  856   21  125]\n",
            " [  43   39  738  109]\n",
            " [  24  119  110 1064]]\n",
            "Log-Loss: 0.6152110960016267\n",
            "MCC: 0.7045636345698016\n",
            "Cohen's Kappa: 0.704506661887012\n",
            "Running experiments for Multinomial NB...\n",
            "\n",
            "Train-Test Split: 50.0-50.0\n",
            "Accuracy: 0.7400745573159366\n",
            "Precision: 0.7592189299774497\n",
            "Recall: 0.7266055537271741\n",
            "F1-Score: 0.7351881853642364\n",
            "AUC-ROC: 0.9291362454612357\n",
            "Confusion Matrix: [[1411  704   91   80]\n",
            " [ 220 2212   41  363]\n",
            " [  65  149 1539  547]\n",
            " [  31  307  191 2779]]\n",
            "Log-Loss: 0.7205028723747842\n",
            "MCC: 0.6513222763564843\n",
            "Cohen's Kappa: 0.6473968527539516\n",
            "\n",
            "Train-Test Split: 60.0-40.0\n",
            "Accuracy: 0.744524697110904\n",
            "Precision: 0.7585753416552073\n",
            "Recall: 0.732403381944899\n",
            "F1-Score: 0.7399343045710601\n",
            "AUC-ROC: 0.9305491979337229\n",
            "Confusion Matrix: [[1154  520   82   68]\n",
            " [ 196 1744   33  285]\n",
            " [  65  110 1266  400]\n",
            " [  25  246  163 2227]]\n",
            "Log-Loss: 0.7070992299201393\n",
            "MCC: 0.6566446977172035\n",
            "Cohen's Kappa: 0.6537681671955465\n",
            "\n",
            "Train-Test Split: 70.0-30.0\n",
            "Accuracy: 0.7421559490525008\n",
            "Precision: 0.754123087973385\n",
            "Recall: 0.7316602976917512\n",
            "F1-Score: 0.7386556287212893\n",
            "AUC-ROC: 0.9295567208113673\n",
            "Confusion Matrix: [[ 892  369   58   50]\n",
            " [ 166 1312   28  214]\n",
            " [  47   95  944  289]\n",
            " [  20  186  138 1630]]\n",
            "Log-Loss: 0.7048791260153559\n",
            "MCC: 0.6531692920453264\n",
            "Cohen's Kappa: 0.650952482371632\n",
            "\n",
            "Train-Test Split: 80.0-20.0\n",
            "Accuracy: 0.7371854613233924\n",
            "Precision: 0.7468623962681404\n",
            "Recall: 0.7262952480143553\n",
            "F1-Score: 0.732521862682683\n",
            "AUC-ROC: 0.9277848348794655\n",
            "Confusion Matrix: [[ 582  243   47   36]\n",
            " [ 113  870   18  137]\n",
            " [  41   63  630  195]\n",
            " [  12  125   98 1082]]\n",
            "Log-Loss: 0.7082622108388693\n",
            "MCC: 0.6465426317867223\n",
            "Cohen's Kappa: 0.6444137597735471\n",
            "Running experiments for Random Forest...\n",
            "\n",
            "Train-Test Split: 50.0-50.0\n",
            "Accuracy: 0.7384902143522833\n",
            "Precision: 0.7410835521059942\n",
            "Recall: 0.7329778213899754\n",
            "F1-Score: 0.7361058089762635\n",
            "AUC-ROC: 0.9211069353561325\n",
            "Confusion Matrix: [[1536  581  111   58]\n",
            " [ 314 2011   98  413]\n",
            " [ 119   94 1719  368]\n",
            " [  62  290  298 2658]]\n",
            "Log-Loss: 0.7453302716534284\n",
            "MCC: 0.6477691315619296\n",
            "Cohen's Kappa: 0.647286829061221\n",
            "\n",
            "Train-Test Split: 60.0-40.0\n",
            "Accuracy: 0.7428937558247903\n",
            "Precision: 0.744260073023639\n",
            "Recall: 0.7376575423359915\n",
            "F1-Score: 0.7402477973401873\n",
            "AUC-ROC: 0.9224576400817723\n",
            "Confusion Matrix: [[1243  436  103   42]\n",
            " [ 258 1600   74  326]\n",
            " [  88   84 1389  280]\n",
            " [  48  222  246 2145]]\n",
            "Log-Loss: 0.7479053977762816\n",
            "MCC: 0.6536602520141279\n",
            "Cohen's Kappa: 0.6532962298629024\n",
            "\n",
            "Train-Test Split: 70.0-30.0\n",
            "Accuracy: 0.7447965206585896\n",
            "Precision: 0.7454176484494466\n",
            "Recall: 0.7412401795106806\n",
            "F1-Score: 0.7429791228143888\n",
            "AUC-ROC: 0.9233251374097924\n",
            "Confusion Matrix: [[ 958  311   69   31]\n",
            " [ 215 1193   60  252]\n",
            " [  66   57 1052  200]\n",
            " [  37  162  183 1592]]\n",
            "Log-Loss: 0.7367518255569682\n",
            "MCC: 0.656393813233052\n",
            "Cohen's Kappa: 0.6561895657821049\n",
            "\n",
            "Train-Test Split: 80.0-20.0\n",
            "Accuracy: 0.7490680335507922\n",
            "Precision: 0.7492174020220149\n",
            "Recall: 0.7453435645917008\n",
            "F1-Score: 0.7470065936987\n",
            "AUC-ROC: 0.923301862030131\n",
            "Confusion Matrix: [[ 641  199   47   21]\n",
            " [ 138  805   31  164]\n",
            " [  49   42  709  129]\n",
            " [  25  100  132 1060]]\n",
            "Log-Loss: 0.7448078068155266\n",
            "MCC: 0.6622386530359944\n",
            "Cohen's Kappa: 0.6620814117231144\n",
            "Running experiments for SVM...\n",
            "\n",
            "Train-Test Split: 50.0-50.0\n",
            "Accuracy: 0.7728797763280522\n",
            "Precision: 0.7728370830435317\n",
            "Recall: 0.7722315060299313\n",
            "F1-Score: 0.7725022181405741\n",
            "AUC-ROC: 0.9385105962531282\n",
            "Confusion Matrix: [[1714  447   92   33]\n",
            " [ 396 2060   60  320]\n",
            " [ 101   74 1862  263]\n",
            " [  58  319  274 2657]]\n",
            "Log-Loss: 0.5868964450699031\n",
            "MCC: 0.6946586975618707\n",
            "Cohen's Kappa: 0.6946353587432337\n",
            "\n",
            "Train-Test Split: 60.0-40.0\n",
            "Accuracy: 0.7779589934762349\n",
            "Precision: 0.7776054132045005\n",
            "Recall: 0.7774663295715594\n",
            "F1-Score: 0.7775078152310422\n",
            "AUC-ROC: 0.9397018929910137\n",
            "Confusion Matrix: [[1385  338   72   29]\n",
            " [ 308 1653   44  253]\n",
            " [  88   56 1497  200]\n",
            " [  50  253  215 2143]]\n",
            "Log-Loss: 0.5815202818526352\n",
            "MCC: 0.7014685400996146\n",
            "Cohen's Kappa: 0.7014475477550872\n",
            "\n",
            "Train-Test Split: 70.0-30.0\n",
            "Accuracy: 0.7808325566946257\n",
            "Precision: 0.7807027081628588\n",
            "Recall: 0.7806999132801584\n",
            "F1-Score: 0.780626176750943\n",
            "AUC-ROC: 0.939034091006066\n",
            "Confusion Matrix: [[1039  260   55   15]\n",
            " [ 216 1280   36  188]\n",
            " [  61   50 1123  141]\n",
            " [  36  179  174 1585]]\n",
            "Log-Loss: 0.5868752100807857\n",
            "MCC: 0.7054830020689119\n",
            "Cohen's Kappa: 0.7054271152441165\n",
            "\n",
            "Train-Test Split: 80.0-20.0\n",
            "Accuracy: 0.7791239515377446\n",
            "Precision: 0.7778259598586901\n",
            "Recall: 0.778087779939785\n",
            "F1-Score: 0.7779454389736653\n",
            "AUC-ROC: 0.936820767064307\n",
            "Confusion Matrix: [[ 690  167   40   11]\n",
            " [ 161  835   19  123]\n",
            " [  46   34  749  100]\n",
            " [  19  110  118 1070]]\n",
            "Log-Loss: 0.5988141091667455\n",
            "MCC: 0.7031822604156702\n",
            "Cohen's Kappa: 0.703174390341942\n"
          ]
        }
      ]
    }
  ]
}